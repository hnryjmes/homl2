{
 "cells": [
  {
   "cell_type": "markdown",
   "metadata": {},
   "source": [
    "# 4. Training Models"
   ]
  },
  {
   "cell_type": "markdown",
   "metadata": {},
   "source": [
    "## Linear Regression\n",
    "\n",
    "- The equation for linear regression is given by\n",
    "$$\n",
    "    \\hat{y} = \\theta_0 + \\theta_1 x_1 + \\theta_2 x_2 + \\cdots + \\theta_n x_n,\n",
    "$$\n",
    "where $\\hat{y}$ is the predicted value, $n$ is the number of features, $x_i$ is the $i$th feature value, $\\theta_j$ is the $j$th model parameter (including the bias term $\\theta_0$ and the feature weights $\\theta_1, \\theta_2, \\cdots, \\theta_n$)."
   ]
  },
  {
   "cell_type": "markdown",
   "metadata": {},
   "source": [
    "- This equation can be expressed more concisely using a vector form:\n",
    "$$\n",
    "    \\hat{y} = h_{\\theta}(x)=\\theta \\cdot x,\n",
    "$$\n",
    "where $\\theta$ is now the model's *parameter vector*, containing the bias term $\\theta_0$ and the feature weights $\\theta_1$ to $\\theta_n$; $x$ is now the instance's *feature vector*, containing $x_0$ to $x_n$, with $x_0$ always equal to 1; $\\theta \\cdot x$ is the dot product of the vectors $\\theta$ and $x$, which is equal to $\\theta_0 x_0 + \\theta_1 x_1 + \\cdots + \\theta_n x_n$; $h_0$ is the hypothesis function, using the model parameters $\\theta$."
   ]
  },
  {
   "cell_type": "markdown",
   "metadata": {},
   "source": [
    "- Remark: if $\\theta$ and $x$ are column vectors, then the prediction is $\\hat{y}=\\theta^T x$, where $\\theta^T$ is the *transpose* of $\\theta$, and $\\theta^T x$ is the matrix multiplication of $\\theta^T$ and $x$, and this is often more preferable notation than the dot product."
   ]
  },
  {
   "cell_type": "markdown",
   "metadata": {},
   "source": [
    "- A common performance measure of a regression model is the root mean squared error (RMSE); therefore, to train a linear regression model, we find the value of $\\theta$ that minimises the RMSE. For the purposes of training however, minimising the mean squared error (MSE) is equivalent, because the value that minimises a function also minimises its square root, and so we can use this as our cost function instead."
   ]
  },
  {
   "cell_type": "markdown",
   "metadata": {},
   "source": [
    "- The MSE cost function for a linear regression hypothesis $h_\\theta$ on a training set $X$ is\n",
    "$$\n",
    "    \\operatorname{MSE}(X, h_\\theta) = \\frac{1}{m}\\sum_{i=1}^m (\\theta^T x^{i} - y^{i})^2\n",
    "$$"
   ]
  },
  {
   "cell_type": "markdown",
   "metadata": {},
   "source": [
    "- The *normal equation* is the closed-form solution to the value of $\\theta$ that minimises the cost function. We write\n",
    "$$\n",
    "    \\hat{\\theta} = (X^TX)^{-1}X^Ty,\n",
    "$$\n",
    "where $\\hat{\\theta}$ is the value of $\\theta$ that minimises the cost function; $y$ is the vector of target values containing $y^1$ to $y^m$."
   ]
  },
  {
   "cell_type": "code",
   "execution_count": 6,
   "metadata": {},
   "outputs": [
    {
     "data": {
      "image/png": "[encoded data removed]",
      "text/plain": [
       "<Figure size 432x288 with 1 Axes>"
      ]
     },
     "metadata": {
      "needs_background": "light"
     },
     "output_type": "display_data"
    }
   ],
   "source": [
    "# Generate linear-looking data\n",
    "import matplotlib.pyplot as plt\n",
    "import numpy as np\n",
    "\n",
    "X = 2 * np.random.rand(100, 1)\n",
    "y = 4 + 3 * X + np.random.randn(100, 1)\n",
    "plt.scatter(X, y);"
   ]
  },
  {
   "cell_type": "code",
   "execution_count": 15,
   "metadata": {},
   "outputs": [
    {
     "data": {
      "text/plain": [
       "array([[1.        , 0.4432395 ],\n",
       "       [1.        , 0.60569508],\n",
       "       [1.        , 0.9815646 ],\n",
       "       [1.        , 1.38924257],\n",
       "       [1.        , 1.87785734],\n",
       "       [1.        , 0.86628439],\n",
       "       [1.        , 0.16288092],\n",
       "       [1.        , 0.28687826],\n",
       "       [1.        , 1.66072008],\n",
       "       [1.        , 0.12254521],\n",
       "       [1.        , 0.89037644],\n",
       "       [1.        , 1.47135819],\n",
       "       [1.        , 1.79724606],\n",
       "       [1.        , 0.8153797 ],\n",
       "       [1.        , 0.60280588],\n",
       "       [1.        , 0.66077207],\n",
       "       [1.        , 1.81407311],\n",
       "       [1.        , 0.42767072],\n",
       "       [1.        , 1.44825226],\n",
       "       [1.        , 1.28769886],\n",
       "       [1.        , 1.51334493],\n",
       "       [1.        , 1.11007853],\n",
       "       [1.        , 0.55860514],\n",
       "       [1.        , 0.31067372],\n",
       "       [1.        , 1.43899685],\n",
       "       [1.        , 1.68441412],\n",
       "       [1.        , 1.48779346],\n",
       "       [1.        , 0.21069175],\n",
       "       [1.        , 1.36376194],\n",
       "       [1.        , 0.79376904],\n",
       "       [1.        , 1.30082296],\n",
       "       [1.        , 0.43269779],\n",
       "       [1.        , 1.38449519],\n",
       "       [1.        , 0.99703722],\n",
       "       [1.        , 1.05166949],\n",
       "       [1.        , 1.26195425],\n",
       "       [1.        , 1.03635746],\n",
       "       [1.        , 1.87400283],\n",
       "       [1.        , 1.84437025],\n",
       "       [1.        , 1.81823811],\n",
       "       [1.        , 1.53196105],\n",
       "       [1.        , 0.17512626],\n",
       "       [1.        , 1.94520502],\n",
       "       [1.        , 1.31504989],\n",
       "       [1.        , 1.22123234],\n",
       "       [1.        , 1.03073948],\n",
       "       [1.        , 1.7987883 ],\n",
       "       [1.        , 1.63620583],\n",
       "       [1.        , 1.30823567],\n",
       "       [1.        , 1.18995929],\n",
       "       [1.        , 1.81401449],\n",
       "       [1.        , 0.04106038],\n",
       "       [1.        , 0.0330732 ],\n",
       "       [1.        , 0.68780949],\n",
       "       [1.        , 0.68011787],\n",
       "       [1.        , 0.53923725],\n",
       "       [1.        , 0.89404876],\n",
       "       [1.        , 1.20589088],\n",
       "       [1.        , 1.30876803],\n",
       "       [1.        , 1.92941209],\n",
       "       [1.        , 1.06835143],\n",
       "       [1.        , 0.62334955],\n",
       "       [1.        , 0.19046548],\n",
       "       [1.        , 1.55582836],\n",
       "       [1.        , 1.18372113],\n",
       "       [1.        , 0.10745144],\n",
       "       [1.        , 0.09374718],\n",
       "       [1.        , 1.50222372],\n",
       "       [1.        , 1.6935173 ],\n",
       "       [1.        , 0.13267626],\n",
       "       [1.        , 1.98008799],\n",
       "       [1.        , 0.53327972],\n",
       "       [1.        , 0.18871364],\n",
       "       [1.        , 0.97335676],\n",
       "       [1.        , 0.91369255],\n",
       "       [1.        , 0.51359001],\n",
       "       [1.        , 0.2843045 ],\n",
       "       [1.        , 0.47484931],\n",
       "       [1.        , 0.72687519],\n",
       "       [1.        , 0.83197545],\n",
       "       [1.        , 1.56318133],\n",
       "       [1.        , 1.15269383],\n",
       "       [1.        , 1.10344923],\n",
       "       [1.        , 0.01674544],\n",
       "       [1.        , 1.91209714],\n",
       "       [1.        , 0.60992084],\n",
       "       [1.        , 0.49649401],\n",
       "       [1.        , 0.18484025],\n",
       "       [1.        , 1.37395426],\n",
       "       [1.        , 1.50084855],\n",
       "       [1.        , 1.58037704],\n",
       "       [1.        , 0.57461557],\n",
       "       [1.        , 0.51829998],\n",
       "       [1.        , 1.06136994],\n",
       "       [1.        , 1.32347357],\n",
       "       [1.        , 1.23794726],\n",
       "       [1.        , 1.15636749],\n",
       "       [1.        , 0.20890633],\n",
       "       [1.        , 0.61290537],\n",
       "       [1.        , 1.95308577]])"
      ]
     },
     "execution_count": 15,
     "metadata": {},
     "output_type": "execute_result"
    }
   ],
   "source": [
    "# We compute $\\hat{\\theta}$ using the normal equation\n",
    "\n",
    "X_b = np.c_[np.ones((100, 1)), X]  # add x0=1 to each instance\n",
    "X_b"
   ]
  },
  {
   "cell_type": "code",
   "execution_count": 14,
   "metadata": {},
   "outputs": [
    {
     "data": {
      "text/plain": [
       "array([[4.11564315],\n",
       "       [3.0372197 ]])"
      ]
     },
     "execution_count": 14,
     "metadata": {},
     "output_type": "execute_result"
    }
   ],
   "source": [
    "theta_best = np.linalg.inv(X_b.T.dot(X_b)).dot(X_b.T).dot(y)\n",
    "theta_best"
   ]
  },
  {
   "cell_type": "markdown",
   "metadata": {},
   "source": [
    "We see that the random noise added before means the parameters of the original function, $\\theta_0=4, \\theta_1=3$, are not recovered. Instead we have\n",
    "$$\n",
    "    y = 4 + 3x_1 + \\text{(Gaussian noise)}.\n",
    "$$"
   ]
  },
  {
   "cell_type": "code",
   "execution_count": 12,
   "metadata": {},
   "outputs": [
    {
     "data": {
      "text/plain": [
       "array([[1., 0.],\n",
       "       [1., 2.]])"
      ]
     },
     "execution_count": 12,
     "metadata": {},
     "output_type": "execute_result"
    }
   ],
   "source": [
    "# We can make a prediction using $\\hat{\\theta}$\n",
    "\n",
    "X_new = np.array([[0], [2]])\n",
    "X_new_b = np.c_[np.ones((2, 1)), X_new]  # add x0=1 to each instance\n",
    "X_new_b"
   ]
  },
  {
   "cell_type": "code",
   "execution_count": 13,
   "metadata": {},
   "outputs": [
    {
     "data": {
      "text/plain": [
       "array([[ 4.11564315],\n",
       "       [10.19008254]])"
      ]
     },
     "execution_count": 13,
     "metadata": {},
     "output_type": "execute_result"
    }
   ],
   "source": [
    "y_predict = X_new_b.dot(theta_best)\n",
    "y_predict"
   ]
  },
  {
   "cell_type": "code",
   "execution_count": 18,
   "metadata": {},
   "outputs": [
    {
     "data": {
      "image/png": "[encoded data removed]",
      "text/plain": [
       "<Figure size 432x288 with 1 Axes>"
      ]
     },
     "metadata": {
      "needs_background": "light"
     },
     "output_type": "display_data"
    }
   ],
   "source": [
    "# Plot the model predictions\n",
    "\n",
    "plt.plot(X_new, y_predict, \"r-\")\n",
    "plt.plot(X, y, \"b.\")\n",
    "plt.axis([0, 2, 0, 15])\n",
    "plt.show()"
   ]
  },
  {
   "cell_type": "code",
   "execution_count": null,
   "metadata": {},
   "outputs": [],
   "source": []
  }
 ],
 "metadata": {
  "kernelspec": {
   "display_name": "Python 3",
   "language": "python",
   "name": "python3"
  },
  "language_info": {
   "codemirror_mode": {
    "name": "ipython",
    "version": 3
   },
   "file_extension": ".py",
   "mimetype": "text/x-python",
   "name": "python",
   "nbconvert_exporter": "python",
   "pygments_lexer": "ipython3",
   "version": "3.8.5"
  }
 },
 "nbformat": 4,
 "nbformat_minor": 4
}
